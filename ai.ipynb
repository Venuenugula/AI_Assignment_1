{
 "cells": [
  {
   "cell_type": "markdown",
   "id": "05db94b6",
   "metadata": {},
   "source": [
    "Question1 : Rabbits Problem"
   ]
  },
  {
   "cell_type": "code",
   "execution_count": 3,
   "id": "738b4497",
   "metadata": {},
   "outputs": [],
   "source": [
    "class RabbitState:\n",
    "    def __init__(self, state):\n",
    "        self.state = state\n",
    "\n",
    "    def __eq__(self, other):\n",
    "        return isinstance(other, RabbitState) and self.state == other.state\n",
    "\n",
    "    def __hash__(self):\n",
    "        return hash(tuple(self.state))\n",
    "\n",
    "    def __str__(self):\n",
    "        return ''.join(self.state)\n",
    "\n",
    "    def goalTest(self):\n",
    "        return self.state == ['L', 'L', 'L', '_', 'R', 'R', 'R']\n",
    "\n",
    "    def moveGen(self):\n",
    "        next_states = []\n",
    "        idx = self.state.index('_')\n",
    "        directions = [-1, -2, 1, 2]\n",
    "        for d in directions:\n",
    "            new_idx = idx + d\n",
    "            if 0 <= new_idx < 7:\n",
    "                if abs(d) == 1 or (abs(d) == 2 and self.state[idx + d // 2] != '_'):\n",
    "                    new_state = self.state.copy()\n",
    "                    new_state[idx], new_state[new_idx] = new_state[new_idx], new_state[idx]\n",
    "                    next_states.append(RabbitState(new_state))\n",
    "        return next_states\n"
   ]
  },
  {
   "cell_type": "markdown",
   "id": "3e4cf8a4",
   "metadata": {},
   "source": [
    "BFS AND DFS"
   ]
  },
  {
   "cell_type": "code",
   "execution_count": null,
   "id": "338ff6fb",
   "metadata": {},
   "outputs": [],
   "source": [
    "def reconstructPath(goal_node_pair, CLOSED):\n",
    "    parent_map = {}\n",
    "    for node, parent in CLOSED:\n",
    "        parent_map[node] = parent\n",
    "    \n",
    "    path = []\n",
    "    goal_node, parent = goal_node_pair\n",
    "    path.append(goal_node)\n",
    "    while parent is not None:\n",
    "        path.append(parent)\n",
    "        parent = parent_map[parent]\n",
    "    \n",
    "    return path\n",
    "\n",
    "\n",
    "def removeSeen(children, OPEN, CLOSED):\n",
    "    open_nodes = [node for node, parent in OPEN]\n",
    "    closed_nodes = [node for node, parent in CLOSED]\n",
    "    new_nodes = [c for c in children if c not in open_nodes and c not in closed_nodes]\n",
    "    return new_nodes\n",
    "    \n",
    "\n",
    "def bfs(start):\n",
    "    OPEN = [(start, None)]\n",
    "    CLOSED = []\n",
    "    while OPEN:\n",
    "        node_pair = OPEN.pop(0)\n",
    "        N, parent = node_pair\n",
    "        \n",
    "        if N.goalTest():\n",
    "            print(\"Goal is found\")\n",
    "            path = reconstructPath(node_pair, CLOSED)\n",
    "            path.reverse()\n",
    "            for node in path:\n",
    "                print(node, \" -> \",end=\"\")\n",
    "            return\n",
    "        else:\n",
    "            CLOSED.append(node_pair)\n",
    "            children = N.moveGen()\n",
    "            new_nodes = removeSeen(children, OPEN, CLOSED)\n",
    "            new_pairs = [(node, N) for node in new_nodes]\n",
    "            OPEN = OPEN + new_pairs\n",
    "    return []\n",
    "\n",
    "#DFS\n",
    "def dfs(start):\n",
    "    OPEN = [(start, None)]\n",
    "    CLOSED = []\n",
    "    while OPEN:\n",
    "        node_pair = OPEN.pop(0)\n",
    "        N, parent = node_pair\n",
    "        \n",
    "        if N.goalTest():\n",
    "            print(\"Goal is found\")\n",
    "            path = reconstructPath(node_pair, CLOSED)\n",
    "            path.reverse()\n",
    "            for node in path:\n",
    "                print(node, \" -> \",end=\"\")\n",
    "            return\n",
    "        else:\n",
    "            CLOSED.append(node_pair)\n",
    "            children = N.moveGen()\n",
    "            new_nodes = removeSeen(children, OPEN, CLOSED)\n",
    "            new_pairs = [(node, N) for node in new_nodes]\n",
    "            OPEN = new_pairs + OPEN #LIFO\n",
    "    return []"
   ]
  },
  {
   "cell_type": "code",
   "execution_count": 11,
   "id": "f64bb167",
   "metadata": {},
   "outputs": [
    {
     "name": "stdout",
     "output_type": "stream",
     "text": [
      "BFS:\n",
      "Goal is found\n",
      "RRR_LLL  -> RR_RLLL  -> RRLR_LL  -> RRLRL_L  -> RRL_LRL  -> R_LRLRL  -> _RLRLRL  -> LR_RLRL  -> LRLR_RL  -> LRLRLR_  -> LRLRL_R  -> LRL_LRR  -> L_LRLRR  -> LL_RLRR  -> LLLR_RR  -> LLL_RRR  -> \n",
      "DFS:\n",
      "Goal is found\n",
      "RRR_LLL  -> RR_RLLL  -> RRLR_LL  -> RRL_RLL  -> RR_LRLL  -> R_RLRLL  -> RLR_RLL  -> RL_RRLL  -> _LRRRLL  -> L_RRRLL  -> LR_RRLL  -> LRRR_LL  -> LRRRL_L  -> LRR_LRL  -> LR_RLRL  -> _RLRLRL  -> R_LRLRL  -> RL_RLRL  -> RLR_LRL  -> R_RLLRL  -> RR_LLRL  -> RRLL_RL  -> RRLLLR_  -> RRLLL_R  -> RRLL_LR  -> RR_LLLR  -> R_RLLLR  -> RLR_LLR  -> RL_RLLR  -> R_LRLLR  -> _RLRLLR  -> LR_RLLR  -> LRR_LLR  -> LRRL_LR  -> LR_LRLR  -> L_RLRLR  -> _LRLRLR  -> RL_LRLR  -> RLL_RLR  -> RLLLR_R  -> RLLL_RR  -> RLL_LRR  -> R_LLLRR  -> _RLLLRR  -> LR_LLRR  -> L_RLLRR  -> LLR_LRR  -> LL_RLRR  -> LLLR_RR  -> LLL_RRR  -> "
     ]
    }
   ],
   "source": [
    "start_state = RabbitState(['R', 'R', 'R', '_', 'L', 'L', 'L'])\n",
    "\n",
    "print(\"BFS:\")\n",
    "bfs(start_state)\n",
    "\n",
    "print(\"\\nDFS:\")\n",
    "dfs(start_state)\n"
   ]
  },
  {
   "cell_type": "markdown",
   "id": "1792322a",
   "metadata": {},
   "source": [
    "Question2 : Bridge Problem"
   ]
  },
  {
   "cell_type": "code",
   "execution_count": 8,
   "id": "a6c9654c",
   "metadata": {},
   "outputs": [],
   "source": [
    "class BridgeState:\n",
    "    def __init__(self, Amogh, Ameya, Grandmother, Grandfather, time,umbrella_side):\n",
    "        self.positions = {\n",
    "            \"Amogh\": Amogh,\n",
    "            \"Ameya\": Ameya,\n",
    "            \"Grandmother\": Grandmother,\n",
    "            \"Grandfather\": Grandfather\n",
    "        }\n",
    "        self.time = time\n",
    "        self.umbrella_side=umbrella_side\n",
    "\n",
    "    def __eq__(self, other):\n",
    "        return self.positions == other.positions and self.time == other.time\n",
    "\n",
    "    def __hash__(self):\n",
    "        return hash((tuple(sorted(self.positions.items())), self.time,self.umbrella_side))\n",
    "\n",
    "    def __str__(self):\n",
    "        return f\"{self.positions}, Time: {self.time}\"\n",
    "\n",
    "    def goalTest(self):\n",
    "        return all(side == \"right\" for side in self.positions.values()) and self.time <= 60\n",
    "\n",
    "    def moveGen(self):\n",
    "        children = []\n",
    "        times = {\n",
    "            \"Amogh\": 5,\n",
    "            \"Ameya\": 10,\n",
    "            \"Grandmother\": 20,\n",
    "            \"Grandfather\": 25\n",
    "        }\n",
    "\n",
    "        candidates = [p for p, side in self.positions.items() if side == self.umbrella_side]\n",
    "\n",
    "        if self.umbrella_side == \"left\":\n",
    "            for i in range(len(candidates)):\n",
    "                for j in range(i+1, len(candidates)):\n",
    "                    p1, p2 = candidates[i], candidates[j]\n",
    "                    new_positions = self.positions.copy()\n",
    "                    new_positions[p1] = \"right\"\n",
    "                    new_positions[p2] = \"right\"\n",
    "                    new_time = self.time+ max(times[p1], times[p2])\n",
    "                    if new_time <= 60:\n",
    "                        child = BridgeState(**new_positions, time=new_time,umbrella_side=\"right\")\n",
    "                        children.append(child)\n",
    "        else:\n",
    "            for p in candidates:\n",
    "                new_positions = self.positions.copy()\n",
    "                new_positions[p] = \"left\"\n",
    "                new_time = self.time + times[p]\n",
    "                if new_time <= 60:\n",
    "                    child = BridgeState(**new_positions, time=new_time,umbrella_side=\"left\")\n",
    "                    children.append(child)\n",
    "\n",
    "        return children"
   ]
  },
  {
   "cell_type": "code",
   "execution_count": 9,
   "id": "0d6a6cbe",
   "metadata": {},
   "outputs": [
    {
     "name": "stdout",
     "output_type": "stream",
     "text": [
      "Bridge Problem - BFS\n",
      "Goal is found\n",
      "{'Amogh': 'left', 'Ameya': 'left', 'Grandmother': 'left', 'Grandfather': 'left'}, Time: 0  -> {'Amogh': 'right', 'Ameya': 'right', 'Grandmother': 'left', 'Grandfather': 'left'}, Time: 10  -> {'Amogh': 'left', 'Ameya': 'right', 'Grandmother': 'left', 'Grandfather': 'left'}, Time: 15  -> {'Amogh': 'left', 'Ameya': 'right', 'Grandmother': 'right', 'Grandfather': 'right'}, Time: 40  -> {'Amogh': 'left', 'Ameya': 'left', 'Grandmother': 'right', 'Grandfather': 'right'}, Time: 50  -> {'Amogh': 'right', 'Ameya': 'right', 'Grandmother': 'right', 'Grandfather': 'right'}, Time: 60  -> \n",
      "Bridge Problem - DFS\n",
      "Goal is found\n",
      "{'Amogh': 'left', 'Ameya': 'left', 'Grandmother': 'left', 'Grandfather': 'left'}, Time: 0  -> {'Amogh': 'right', 'Ameya': 'right', 'Grandmother': 'left', 'Grandfather': 'left'}, Time: 10  -> {'Amogh': 'left', 'Ameya': 'right', 'Grandmother': 'left', 'Grandfather': 'left'}, Time: 15  -> {'Amogh': 'left', 'Ameya': 'right', 'Grandmother': 'right', 'Grandfather': 'right'}, Time: 40  -> {'Amogh': 'left', 'Ameya': 'left', 'Grandmother': 'right', 'Grandfather': 'right'}, Time: 50  -> {'Amogh': 'right', 'Ameya': 'right', 'Grandmother': 'right', 'Grandfather': 'right'}, Time: 60  -> "
     ]
    }
   ],
   "source": [
    "start = BridgeState(\n",
    "    Amogh=\"left\",\n",
    "    Ameya=\"left\",\n",
    "    Grandmother=\"left\",\n",
    "    Grandfather=\"left\",\n",
    "    time=0,\n",
    "    umbrella_side=\"left\"\n",
    ")\n",
    "print(\"Bridge Problem - BFS\")\n",
    "bfs(start)\n",
    "\n",
    "print(\"\\nBridge Problem - DFS\")\n",
    "dfs(start)\n"
   ]
  }
 ],
 "metadata": {
  "kernelspec": {
   "display_name": "base",
   "language": "python",
   "name": "python3"
  },
  "language_info": {
   "codemirror_mode": {
    "name": "ipython",
    "version": 3
   },
   "file_extension": ".py",
   "mimetype": "text/x-python",
   "name": "python",
   "nbconvert_exporter": "python",
   "pygments_lexer": "ipython3",
   "version": "3.12.2"
  }
 },
 "nbformat": 4,
 "nbformat_minor": 5
}
